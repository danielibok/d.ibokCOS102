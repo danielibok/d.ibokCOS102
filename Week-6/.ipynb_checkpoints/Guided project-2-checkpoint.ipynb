{
 "cells": [
  {
   "cell_type": "code",
   "execution_count": null,
   "id": "3e813b59-839d-427b-8dd0-9195cfcf5c04",
   "metadata": {},
   "outputs": [],
   "source": [
    "def computer_science():\n",
    "    jamb = int(input(\"What is your JAMB score\\n\"))\n",
    "    credit = input(\"Do you have at least 5 credits in your 5 key subject\\n\")\n",
    "    interview = input(\"Did you pass the interview\\n\")\n",
    "    if jamb >= 250 and credit == \"yes\" and interview == \"yes\":\n",
    "        print(\"You have been admitted into the computer science department\")\n",
    "    else:\n",
    "        print(\"Unfortunately, you were not admitted into the computer science department\")\n",
    "    return\n",
    "\n",
    "    \n",
    "\n",
    "def mass_communication():\n",
    "    jamb = int(input(\"What is your JAMB score\\n\"))\n",
    "    credit = input(\"Do you have at least 5 credits in your 5 key subject\\n\")\n",
    "    interview = input(\"Did you pass the interview\\n\")\n",
    "    if jamb >= 230 and credit == \"yes\" and interview == \"yes\":\n",
    "        print(\"You have been admitted into the mass communication department\")\n",
    "    else:\n",
    "        print(\"Unfortunately, you were not admitted into the mass communication department\")\n",
    "    return\n",
    "\n",
    "\n",
    "name = input(\"Input your candidate name \")\n",
    "Admission = input(\"If you are applied for computer science input computer scince and if you applied for mass communication input mass communication\\n\")\n",
    "if Admission == \"computer science\":\n",
    "    computer_science()\n",
    "elif Admission == \"mass communication\":\n",
    "    mass_communication()\n",
    "else:\n",
    "    print(\"Enter computer science or mass communication\")\n",
    "    \n",
    "Admitted = []\n",
    "noAdmitted = []\n",
    "\n",
    "if computer_science() == \"You have been admitted into the computer science department\":\n",
    "    Admitted.append(name)\n",
    "else:\n",
    "    noAdmitted.append(name)\n",
    "\n",
    "if mass_communication() == \"You have been admitted into the mass communication department\":\n",
    "    Admitted.append(name)\n",
    "else:\n",
    "    noAdmitted.append(name)\n",
    "\n",
    "print(Admitted)\n",
    "print(noAdmitted)"
   ]
  },
  {
   "cell_type": "code",
   "execution_count": null,
   "id": "252d0bde-d4af-4334-8f64-bab2a2f72726",
   "metadata": {},
   "outputs": [],
   "source": []
  }
 ],
 "metadata": {
  "kernelspec": {
   "display_name": "Python 3 (ipykernel)",
   "language": "python",
   "name": "python3"
  },
  "language_info": {
   "codemirror_mode": {
    "name": "ipython",
    "version": 3
   },
   "file_extension": ".py",
   "mimetype": "text/x-python",
   "name": "python",
   "nbconvert_exporter": "python",
   "pygments_lexer": "ipython3",
   "version": "3.11.7"
  }
 },
 "nbformat": 4,
 "nbformat_minor": 5
}
