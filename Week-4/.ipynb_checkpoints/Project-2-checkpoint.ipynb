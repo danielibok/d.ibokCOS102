{
 "cells": [
  {
   "cell_type": "code",
   "execution_count": null,
   "id": "4d15b6fa-065d-4731-a2fa-7cec8e04bcc6",
   "metadata": {},
   "outputs": [
    {
     "name": "stdout",
     "output_type": "stream",
     "text": [
      "Izifin Technology\n",
      "Input the following information requested below:\n"
     ]
    }
   ],
   "source": [
    "# Python program for Izifin Technology that collects data on work experience and age of staff \n",
    "for i in range(2502):\n",
    "    print(\"Izifin Technology\")\n",
    "    print(\"Input the following information requested below:\")\n",
    "    name =str(input(\"Staff's full name:\"))\n",
    "    yoe = int(input(\" Staff's years of work experience:\"))\n",
    "    age = int(input(\"Age of staff:\"))\n",
    "    if yoe > 25 and age >= 55:\n",
    "       print(\"Annual Tax Revenue of staff is N5,600,000\")\n",
    "    if yoe > 20 and age <= 45:\n",
    "       print(\"Annual Tax Revenue of staff is N4,480,000\")\n",
    "    if yoe > 10 and age >= 35:\n",
    "       print(\"Annual Tax Revenue for staff is N1,500,000\")\n",
    "    elif yoe <+10 and yoe >=1 and age <=35 and age >= 1:\n",
    "         print(\"Annual Tax Revenue for staff is N550,000\")\n",
    "    else:\n",
    "         print(\"Oops! You are not eligible to receive Annual Tax Revenue :( \")\n",
    "\n"
   ]
  },
  {
   "cell_type": "code",
   "execution_count": null,
   "id": "944a7db1-9d46-41f9-9b77-1ae4d47c694e",
   "metadata": {},
   "outputs": [],
   "source": []
  },
  {
   "cell_type": "code",
   "execution_count": null,
   "id": "883206d8-9fc4-4efd-a70e-988a1d6b366e",
   "metadata": {},
   "outputs": [],
   "source": []
  },
  {
   "cell_type": "code",
   "execution_count": null,
   "id": "65203dfc-5d68-4164-a140-2646ce636ca8",
   "metadata": {},
   "outputs": [],
   "source": []
  },
  {
   "cell_type": "code",
   "execution_count": null,
   "id": "43522d5e-1b31-410a-9e31-0de10dbbd9af",
   "metadata": {},
   "outputs": [],
   "source": []
  }
 ],
 "metadata": {
  "kernelspec": {
   "display_name": "Python 3 (ipykernel)",
   "language": "python",
   "name": "python3"
  },
  "language_info": {
   "codemirror_mode": {
    "name": "ipython",
    "version": 3
   },
   "file_extension": ".py",
   "mimetype": "text/x-python",
   "name": "python",
   "nbconvert_exporter": "python",
   "pygments_lexer": "ipython3",
   "version": "3.11.7"
  }
 },
 "nbformat": 4,
 "nbformat_minor": 5
}
