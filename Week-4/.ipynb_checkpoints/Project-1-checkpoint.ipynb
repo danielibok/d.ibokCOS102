{
 "cells": [
  {
   "cell_type": "code",
   "execution_count": 28,
   "id": "8db9aae7-a6a0-44c3-8d30-7f23fe1ef100",
   "metadata": {},
   "outputs": [
    {
     "name": "stdout",
     "output_type": "stream",
     "text": [
      "GIRLS\n",
      "Name, Age , Height ,Score\n",
      "Evelyn, 17 , 5.5 , 80\n",
      "Jessica, 16 , 6.0 , 85\n",
      "Somto, 17 , 5.4 , 70\n",
      "Edith, 18 , 5.9 ,60\n",
      "Liza, 16 , 5.6 , 76\n",
      "Madonna, 18 , 5.5 , 66\n",
      "Waje, 17 , 6.1 , 87\n",
      "Tola, 20 , 6.0 , 95\n",
      "Aisha, 19 , 5.7 , 50\n",
      "Latifa, 17 , 5.5 , 49\n",
      "\n",
      "\n",
      "BOYS\n",
      "Name,Age,Height,Score\n",
      "Chinedu, 19 ,5.7 , 74\n",
      "Liam, 16 , 5.9 , 87\n",
      "Wale, 18 ,5.8 , 75\n",
      "Gbenga, 17 , 6.1, , 68\n",
      "Abiola, 20 , 5.9 , 66\n",
      "Kola, 19 , 5.5 , 78\n",
      "Kunle, 16 , 6.1 , 87\n",
      "George, 18 , 5.4 , 98\n",
      "Thomas, 17 , 5.8 , 54\n",
      "Wesley, 19 , 5.7 , 60\n"
     ]
    }
   ],
   "source": [
    "# NAME,AGE,HEIGHT AND SCORE OF 20 STUDENTS\n",
    "print(\"GIRLS\")\n",
    "print(\"Name, Age , Height , Score\")\n",
    "Girls = {'Evelyn, 17 , 5.5':', 80', 'Jessica, 16 , 6.0':', 85', 'Somto, 17 , 5.4':', 70', 'Edith, 18 , 5.9':',60', 'Liza, 16 , 5.6':', 76', 'Madonna, 18 , 5.5':', 66','Waje, 17 , 6.1':', 87', 'Tola, 20 , 6.0':', 95', 'Aisha, 19 , 5.7':', 50','Latifa, 17 , 5.5':', 49'}\n",
    "\n",
    "Boys = {'Chinedu, 19 ,5.7':', 74', 'Liam, 16 , 5.9':', 87', 'Wale, 18 ,5.8':', 75', 'Gbenga, 17 , 6.1,':', 68', 'Abiola, 20 , 5.9':', 66', 'Kola, 19 , 5.5':', 78', 'Kunle, 16 , 6.1':', 87', 'George, 18 , 5.4':', 98', 'Thomas, 17 , 5.8':', 54', 'Wesley, 19 , 5.7':', 60'} \n",
    "\n",
    "for i in Girls:\n",
    "    print(i ,Girls[i])\n",
    "print(\"\\n\")    \n",
    "\n",
    "print(\"BOYS\")\n",
    "print(\"Name , Age , Height , Score\")\n",
    "for i in Boys: \n",
    "    print(i, Boys[i])\n",
    "    \n",
    "    "
   ]
  },
  {
   "cell_type": "code",
   "execution_count": null,
   "id": "2140be49-739c-47df-bc0e-51a281788472",
   "metadata": {},
   "outputs": [],
   "source": []
  }
 ],
 "metadata": {
  "kernelspec": {
   "display_name": "Python 3 (ipykernel)",
   "language": "python",
   "name": "python3"
  },
  "language_info": {
   "codemirror_mode": {
    "name": "ipython",
    "version": 3
   },
   "file_extension": ".py",
   "mimetype": "text/x-python",
   "name": "python",
   "nbconvert_exporter": "python",
   "pygments_lexer": "ipython3",
   "version": "3.11.7"
  }
 },
 "nbformat": 4,
 "nbformat_minor": 5
}
