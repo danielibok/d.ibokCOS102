{
 "cells": [
  {
   "cell_type": "code",
   "execution_count": 2,
   "id": "ce996030-4ec6-4f6b-813e-50307eef3be2",
   "metadata": {},
   "outputs": [
    {
     "name": "stdin",
     "output_type": "stream",
     "text": [
      "Enter the principal 500.0\n",
      "Enter the rate 3.5\n",
      "Enter the time 3\n"
     ]
    },
    {
     "name": "stdout",
     "output_type": "stream",
     "text": [
      "The simple interest is 52.5\n"
     ]
    }
   ],
   "source": [
    "#Program to find the simple interest \n",
    "p = float(input(\"Enter the principal\"))\n",
    "r = float(input(\"Enter the rate\"))\n",
    "t = float(input(\"Enter the time\"))\n",
    "A = p * ( 1 + (r/100 ) * t )\n",
    "SI = A - p \n",
    "print(\"The simple interest is\",SI)"
   ]
  },
  {
   "cell_type": "code",
   "execution_count": 3,
   "id": "f18ee141-45fa-437b-b6a7-d88b63c198ba",
   "metadata": {},
   "outputs": [
    {
     "name": "stdin",
     "output_type": "stream",
     "text": [
      "Enter the principal 4.0\n",
      "Enter the rate 4.0\n",
      "Enter the time 4.0\n",
      "Enter the number of elements 4\n"
     ]
    },
    {
     "name": "stdout",
     "output_type": "stream",
     "text": [
      "The compound interest is 252.0\n"
     ]
    }
   ],
   "source": [
    "#Program to find the compund interest \n",
    "p = float(input(\"Enter the principal\"))\n",
    "r = float(input(\"Enter the rate\"))\n",
    "t = float(input(\"Enter the time\"))\n",
    "n = int(input(\"Enter the number of times interest is calculated\"))\n",
    "A = p * ( 1 + ( r/n )) ** n*t \n",
    "CI = A - p \n",
    "print(\"The compound interest is\",CI)"
   ]
  },
  {
   "cell_type": "code",
   "execution_count": 10,
   "id": "a7deb7cf-d6ed-4b97-a007-2175cb3a72b8",
   "metadata": {},
   "outputs": [
    {
     "name": "stdin",
     "output_type": "stream",
     "text": [
      "Enter the principal 9.0\n",
      "Enter the rate 9.0\n",
      "Enter the time 9.0\n",
      "Enter the number of elements 9.0\n",
      "Enter the amount of each annuity payment 9\n"
     ]
    },
    {
     "name": "stdout",
     "output_type": "stream",
     "text": [
      "The annuity plan is 72.0\n"
     ]
    }
   ],
   "source": [
    "#Program to find the annuity plan \n",
    "p = float(input(\"Enter the principal\"))\n",
    "r = float(input(\"Enter the rate\"))\n",
    "t = float(input(\"Enter the time\"))\n",
    "n = float(input(\"Enter the number of elements\"))\n",
    "pmt = int(input(\"Enter the amount of each annuity payment\")) \n",
    "A = pmt * (( 1 + (r/n ) ** n*t ) - 1) / (r/n)\n",
    "AP = A - p \n",
    "print(\"The annuity plan is\",AP)"
   ]
  },
  {
   "cell_type": "code",
   "execution_count": null,
   "id": "beb5a57e-223d-4381-8bc1-b119ef285853",
   "metadata": {},
   "outputs": [],
   "source": []
  }
 ],
 "metadata": {
  "kernelspec": {
   "display_name": "Python 3 (ipykernel)",
   "language": "python",
   "name": "python3"
  },
  "language_info": {
   "codemirror_mode": {
    "name": "ipython",
    "version": 3
   },
   "file_extension": ".py",
   "mimetype": "text/x-python",
   "name": "python",
   "nbconvert_exporter": "python",
   "pygments_lexer": "ipython3",
   "version": "3.11.7"
  }
 },
 "nbformat": 4,
 "nbformat_minor": 5
}
