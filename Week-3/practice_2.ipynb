{
 "cells": [
  {
   "cell_type": "code",
   "execution_count": 3,
   "id": "a8fc948a-a104-4cf8-a05a-a80d9d2424bc",
   "metadata": {},
   "outputs": [
    {
     "name": "stdin",
     "output_type": "stream",
     "text": [
      "Enter mass is kilogram: 34\n"
     ]
    },
    {
     "name": "stdout",
     "output_type": "stream",
     "text": [
      "The energy equivalent to 34.0 kg of mass is 3.0557676077051796e+18 joules.\n"
     ]
    }
   ],
   "source": [
    "# Input from user\n",
    "m = float(input(\"Enter mass is kilogram:\"))\n",
    "\n",
    "# Constant value for the speed of light in m/s \n",
    "c = 299792458\n",
    "\n",
    "# Calculating energy using Einstein's equation\n",
    "energy = m * c ** 2\n",
    "\n",
    "# Displaying the result \n",
    "print(f\"The energy equivalent to {m} kg of mass is {energy} joules.\")  "
   ]
  },
  {
   "cell_type": "code",
   "execution_count": null,
   "id": "f5148a48-f7ae-4898-8c90-674b93607d91",
   "metadata": {},
   "outputs": [],
   "source": []
  }
 ],
 "metadata": {
  "kernelspec": {
   "display_name": "Python 3 (ipykernel)",
   "language": "python",
   "name": "python3"
  },
  "language_info": {
   "codemirror_mode": {
    "name": "ipython",
    "version": 3
   },
   "file_extension": ".py",
   "mimetype": "text/x-python",
   "name": "python",
   "nbconvert_exporter": "python",
   "pygments_lexer": "ipython3",
   "version": "3.11.7"
  }
 },
 "nbformat": 4,
 "nbformat_minor": 5
}
