{
 "cells": [
  {
   "cell_type": "code",
   "execution_count": 1,
   "id": "9d1a6283-1de4-4483-9fb4-17b1b8e73800",
   "metadata": {},
   "outputs": [
    {
     "name": "stdin",
     "output_type": "stream",
     "text": [
      "Enter your state of origin: Ekiti\n"
     ]
    },
    {
     "name": "stdout",
     "output_type": "stream",
     "text": [
      "Your state of origin is: Ekiti\n",
      "THe first character is: E\n",
      "The characters starting from 3rd to 5th are: iti\n",
      "The string starting from 3rd character is: iti\n",
      "State of origin two times EkitiEkiti\n"
     ]
    }
   ],
   "source": [
    "str = input(\"Enter your state of origin:\")\n",
    "\n",
    "print (\"Your state of origin is:\", str)\n",
    "print (\"THe first character is:\",str[0])\n",
    "print (\"The characters starting from 3rd to 5th are:\", str[2:5])\n",
    "print (\"The string starting from 3rd character is:\", str[2:])\n",
    "print (\"State of origin two times\", str * 2)"
   ]
  },
  {
   "cell_type": "code",
   "execution_count": null,
   "id": "0e461385-becc-4518-8831-2ad3390380ad",
   "metadata": {},
   "outputs": [],
   "source": []
  }
 ],
 "metadata": {
  "kernelspec": {
   "display_name": "Python 3 (ipykernel)",
   "language": "python",
   "name": "python3"
  },
  "language_info": {
   "codemirror_mode": {
    "name": "ipython",
    "version": 3
   },
   "file_extension": ".py",
   "mimetype": "text/x-python",
   "name": "python",
   "nbconvert_exporter": "python",
   "pygments_lexer": "ipython3",
   "version": "3.11.7"
  }
 },
 "nbformat": 4,
 "nbformat_minor": 5
}
